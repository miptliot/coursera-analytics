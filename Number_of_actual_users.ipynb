{
 "cells": [
  {
   "cell_type": "code",
   "execution_count": 61,
   "metadata": {
    "collapsed": true
   },
   "outputs": [],
   "source": [
    "import pandas as pd\n",
    "import numpy as np"
   ]
  },
  {
   "cell_type": "markdown",
   "metadata": {},
   "source": [
    "# Определение кол-ва пользователей в актуальных когортах"
   ]
  },
  {
   "cell_type": "code",
   "execution_count": 62,
   "metadata": {
    "collapsed": false,
    "scrolled": false
   },
   "outputs": [
    {
     "data": {
      "text/html": [
       "<div>\n",
       "<table border=\"1\" class=\"dataframe\">\n",
       "  <thead>\n",
       "    <tr style=\"text-align: right;\">\n",
       "      <th></th>\n",
       "      <th>course_id</th>\n",
       "      <th>on_demand_session_id</th>\n",
       "      <th>mipt_user_id</th>\n",
       "      <th>on_demand_sessions_membership_start_ts</th>\n",
       "      <th>on_demand_sessions_membership_end_ts</th>\n",
       "    </tr>\n",
       "  </thead>\n",
       "  <tbody>\n",
       "    <tr>\n",
       "      <th>0</th>\n",
       "      <td>RcnRZHHtEeWxvQr3acyajw</td>\n",
       "      <td>pC27pQZmEeaGrhI0SW4tcQ</td>\n",
       "      <td>c50bc8ee275c2f02d79d2d8aed190ca943596de6</td>\n",
       "      <td>2016-06-18 21:36:16.928</td>\n",
       "      <td>NaN</td>\n",
       "    </tr>\n",
       "    <tr>\n",
       "      <th>1</th>\n",
       "      <td>RcnRZHHtEeWxvQr3acyajw</td>\n",
       "      <td>Eot05M7AEeWaURKFEvfOjQ</td>\n",
       "      <td>60c1b591ae10644a7dd79c4950f013428afc3881</td>\n",
       "      <td>2016-02-09 02:57:20.942</td>\n",
       "      <td>2016-03-16 06:16:53.202</td>\n",
       "    </tr>\n",
       "    <tr>\n",
       "      <th>2</th>\n",
       "      <td>RcnRZHHtEeWxvQr3acyajw</td>\n",
       "      <td>R3DLxDixEeaDRA5SxbW7qQ</td>\n",
       "      <td>2755bc6d7602742a83d8f3bf9f09c957f5bd86c9</td>\n",
       "      <td>2016-08-13 18:33:57.662</td>\n",
       "      <td>2016-08-18 19:00:00.331</td>\n",
       "    </tr>\n",
       "    <tr>\n",
       "      <th>3</th>\n",
       "      <td>RcnRZHHtEeWxvQr3acyajw</td>\n",
       "      <td>OD4AYDgIEeazPQoUWGdJ9Q</td>\n",
       "      <td>c92e2a9dc92d4d867a2c98871ec17688d7d14081</td>\n",
       "      <td>2016-07-07 10:59:31.466</td>\n",
       "      <td>NaN</td>\n",
       "    </tr>\n",
       "    <tr>\n",
       "      <th>4</th>\n",
       "      <td>RcnRZHHtEeWxvQr3acyajw</td>\n",
       "      <td>Eot05M7AEeWaURKFEvfOjQ</td>\n",
       "      <td>8d48d2c564743810fe3734334dc908a8573fe915</td>\n",
       "      <td>2016-02-09 19:39:57.126</td>\n",
       "      <td>NaN</td>\n",
       "    </tr>\n",
       "  </tbody>\n",
       "</table>\n",
       "</div>"
      ],
      "text/plain": [
       "                course_id    on_demand_session_id  \\\n",
       "0  RcnRZHHtEeWxvQr3acyajw  pC27pQZmEeaGrhI0SW4tcQ   \n",
       "1  RcnRZHHtEeWxvQr3acyajw  Eot05M7AEeWaURKFEvfOjQ   \n",
       "2  RcnRZHHtEeWxvQr3acyajw  R3DLxDixEeaDRA5SxbW7qQ   \n",
       "3  RcnRZHHtEeWxvQr3acyajw  OD4AYDgIEeazPQoUWGdJ9Q   \n",
       "4  RcnRZHHtEeWxvQr3acyajw  Eot05M7AEeWaURKFEvfOjQ   \n",
       "\n",
       "                               mipt_user_id  \\\n",
       "0  c50bc8ee275c2f02d79d2d8aed190ca943596de6   \n",
       "1  60c1b591ae10644a7dd79c4950f013428afc3881   \n",
       "2  2755bc6d7602742a83d8f3bf9f09c957f5bd86c9   \n",
       "3  c92e2a9dc92d4d867a2c98871ec17688d7d14081   \n",
       "4  8d48d2c564743810fe3734334dc908a8573fe915   \n",
       "\n",
       "  on_demand_sessions_membership_start_ts on_demand_sessions_membership_end_ts  \n",
       "0                2016-06-18 21:36:16.928                                  NaN  \n",
       "1                2016-02-09 02:57:20.942              2016-03-16 06:16:53.202  \n",
       "2                2016-08-13 18:33:57.662              2016-08-18 19:00:00.331  \n",
       "3                2016-07-07 10:59:31.466                                  NaN  \n",
       "4                2016-02-09 19:39:57.126                                  NaN  "
      ]
     },
     "execution_count": 62,
     "metadata": {},
     "output_type": "execute_result"
    }
   ],
   "source": [
    "members = pd.read_csv('on_demand_session_memberships.csv')\n",
    "members.head()"
   ]
  },
  {
   "cell_type": "code",
   "execution_count": 63,
   "metadata": {
    "collapsed": true
   },
   "outputs": [],
   "source": [
    "sessions = members['on_demand_session_id'].values # Все когорты\n",
    "actuals = ['74NXxkCMEeaXnBKVQldqyw','Rx5SRkuNEeaVABKtWz_zNw'] # Актуальные когорты\n",
    "indexes_1 = [session in actuals for session in sessions]\n",
    "new_members = members.iloc[indexes_1]\n",
    "new_sessions_members = np.unique(new_members['mipt_user_id'].values) # Юзеры в актуальных когортах"
   ]
  },
  {
   "cell_type": "code",
   "execution_count": 64,
   "metadata": {
    "collapsed": false,
    "scrolled": true
   },
   "outputs": [
    {
     "data": {
      "text/plain": [
       "2288"
      ]
     },
     "execution_count": 64,
     "metadata": {},
     "output_type": "execute_result"
    }
   ],
   "source": [
    "len(new_sessions_members)"
   ]
  },
  {
   "cell_type": "code",
   "execution_count": 67,
   "metadata": {
    "collapsed": false
   },
   "outputs": [],
   "source": [
    "payments = pd.read_csv('users_courses__certificate_payments.csv')\n",
    "pay_users = np.unique(payments['mipt_user_id'].values) # Юзеры,которые получили доступ к курсу\n",
    "last_users = [] # Юзеры, которые имеют доступ к курсу и находятся в актуальных когортах\n",
    "for user in new_sessions_members:\n",
    "    if user in pay_users:\n",
    "        last_users.append(user)"
   ]
  },
  {
   "cell_type": "code",
   "execution_count": 68,
   "metadata": {
    "collapsed": false
   },
   "outputs": [
    {
     "name": "stdout",
     "output_type": "stream",
     "text": [
      "808\n"
     ]
    }
   ],
   "source": [
    "print len(last_users)"
   ]
  },
  {
   "cell_type": "code",
   "execution_count": null,
   "metadata": {
    "collapsed": true
   },
   "outputs": [],
   "source": []
  }
 ],
 "metadata": {
  "kernelspec": {
   "display_name": "Python 2",
   "language": "python",
   "name": "python2"
  },
  "language_info": {
   "codemirror_mode": {
    "name": "ipython",
    "version": 2
   },
   "file_extension": ".py",
   "mimetype": "text/x-python",
   "name": "python",
   "nbconvert_exporter": "python",
   "pygments_lexer": "ipython2",
   "version": "2.7.11"
  }
 },
 "nbformat": 4,
 "nbformat_minor": 0
}
