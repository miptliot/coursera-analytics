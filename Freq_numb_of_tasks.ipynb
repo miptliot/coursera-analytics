{
 "cells": [
  {
   "cell_type": "code",
   "execution_count": 6,
   "metadata": {
    "collapsed": true
   },
   "outputs": [],
   "source": [
    "import numpy as np\n",
    "import pandas as pd\n",
    "from matplotlib import pyplot as plt\n",
    "%matplotlib inline"
   ]
  },
  {
   "cell_type": "code",
   "execution_count": 7,
   "metadata": {
    "collapsed": false
   },
   "outputs": [],
   "source": [
    "prog = pd.read_csv('course_progress.csv')\n",
    "item_grades = pd.read_csv('course_item_grades.csv')"
   ]
  },
  {
   "cell_type": "code",
   "execution_count": 8,
   "metadata": {
    "collapsed": false
   },
   "outputs": [
    {
     "data": {
      "text/html": [
       "<div>\n",
       "<table border=\"1\" class=\"dataframe\">\n",
       "  <thead>\n",
       "    <tr style=\"text-align: right;\">\n",
       "      <th></th>\n",
       "      <th>course_id</th>\n",
       "      <th>course_item_id</th>\n",
       "      <th>mipt_user_id</th>\n",
       "      <th>course_item_grade_ts</th>\n",
       "      <th>course_item_passing_state_id</th>\n",
       "      <th>course_item_grade_overall</th>\n",
       "      <th>course_item_grade_verified</th>\n",
       "      <th>course_item_grade_pending</th>\n",
       "    </tr>\n",
       "  </thead>\n",
       "  <tbody>\n",
       "    <tr>\n",
       "      <th>0</th>\n",
       "      <td>RcnRZHHtEeWxvQr3acyajw</td>\n",
       "      <td>2yTvX</td>\n",
       "      <td>27895f12855f0076a54779a71113195166b32a2a</td>\n",
       "      <td>2016-09-20 10:50:47.207</td>\n",
       "      <td>0</td>\n",
       "      <td>0.0</td>\n",
       "      <td>0.0</td>\n",
       "      <td>0.0</td>\n",
       "    </tr>\n",
       "    <tr>\n",
       "      <th>1</th>\n",
       "      <td>RcnRZHHtEeWxvQr3acyajw</td>\n",
       "      <td>2yTvX</td>\n",
       "      <td>bcd1988c24894ccee77960bdb60bdbd1cae665ab</td>\n",
       "      <td>2016-02-19 20:49:23.533</td>\n",
       "      <td>2</td>\n",
       "      <td>1.0</td>\n",
       "      <td>1.0</td>\n",
       "      <td>0.0</td>\n",
       "    </tr>\n",
       "    <tr>\n",
       "      <th>2</th>\n",
       "      <td>RcnRZHHtEeWxvQr3acyajw</td>\n",
       "      <td>2yTvX</td>\n",
       "      <td>9c7bde301757cd54a6c7c13d616932caf5431447</td>\n",
       "      <td>2016-06-25 00:02:53.48</td>\n",
       "      <td>2</td>\n",
       "      <td>1.0</td>\n",
       "      <td>1.0</td>\n",
       "      <td>0.0</td>\n",
       "    </tr>\n",
       "    <tr>\n",
       "      <th>3</th>\n",
       "      <td>RcnRZHHtEeWxvQr3acyajw</td>\n",
       "      <td>2yTvX</td>\n",
       "      <td>c08b4c96e4c9da72c7c51cbb4eabd51b4b705fa4</td>\n",
       "      <td>2016-02-14 13:25:13.535</td>\n",
       "      <td>2</td>\n",
       "      <td>1.0</td>\n",
       "      <td>1.0</td>\n",
       "      <td>0.0</td>\n",
       "    </tr>\n",
       "    <tr>\n",
       "      <th>4</th>\n",
       "      <td>RcnRZHHtEeWxvQr3acyajw</td>\n",
       "      <td>2yTvX</td>\n",
       "      <td>bc58eea4796e08c6b31f1c40348890fa4166335a</td>\n",
       "      <td>2016-07-02 20:31:50.312</td>\n",
       "      <td>2</td>\n",
       "      <td>1.0</td>\n",
       "      <td>1.0</td>\n",
       "      <td>0.0</td>\n",
       "    </tr>\n",
       "  </tbody>\n",
       "</table>\n",
       "</div>"
      ],
      "text/plain": [
       "                course_id course_item_id  \\\n",
       "0  RcnRZHHtEeWxvQr3acyajw          2yTvX   \n",
       "1  RcnRZHHtEeWxvQr3acyajw          2yTvX   \n",
       "2  RcnRZHHtEeWxvQr3acyajw          2yTvX   \n",
       "3  RcnRZHHtEeWxvQr3acyajw          2yTvX   \n",
       "4  RcnRZHHtEeWxvQr3acyajw          2yTvX   \n",
       "\n",
       "                               mipt_user_id     course_item_grade_ts  \\\n",
       "0  27895f12855f0076a54779a71113195166b32a2a  2016-09-20 10:50:47.207   \n",
       "1  bcd1988c24894ccee77960bdb60bdbd1cae665ab  2016-02-19 20:49:23.533   \n",
       "2  9c7bde301757cd54a6c7c13d616932caf5431447   2016-06-25 00:02:53.48   \n",
       "3  c08b4c96e4c9da72c7c51cbb4eabd51b4b705fa4  2016-02-14 13:25:13.535   \n",
       "4  bc58eea4796e08c6b31f1c40348890fa4166335a  2016-07-02 20:31:50.312   \n",
       "\n",
       "   course_item_passing_state_id  course_item_grade_overall  \\\n",
       "0                             0                        0.0   \n",
       "1                             2                        1.0   \n",
       "2                             2                        1.0   \n",
       "3                             2                        1.0   \n",
       "4                             2                        1.0   \n",
       "\n",
       "   course_item_grade_verified  course_item_grade_pending  \n",
       "0                         0.0                        0.0  \n",
       "1                         1.0                        0.0  \n",
       "2                         1.0                        0.0  \n",
       "3                         1.0                        0.0  \n",
       "4                         1.0                        0.0  "
      ]
     },
     "execution_count": 8,
     "metadata": {},
     "output_type": "execute_result"
    }
   ],
   "source": [
    "item_grades.head()"
   ]
  },
  {
   "cell_type": "code",
   "execution_count": 9,
   "metadata": {
    "collapsed": false
   },
   "outputs": [],
   "source": [
    "items = np.unique(item_grades['course_item_id'].values)"
   ]
  },
  {
   "cell_type": "code",
   "execution_count": 10,
   "metadata": {
    "collapsed": false
   },
   "outputs": [
    {
     "data": {
      "text/plain": [
       "14"
      ]
     },
     "execution_count": 10,
     "metadata": {},
     "output_type": "execute_result"
    }
   ],
   "source": [
    "len(np.unique(item_grades['course_item_id'].values))"
   ]
  },
  {
   "cell_type": "code",
   "execution_count": 11,
   "metadata": {
    "collapsed": false
   },
   "outputs": [
    {
     "name": "stdout",
     "output_type": "stream",
     "text": [
      "15\n"
     ]
    }
   ],
   "source": [
    "length = len(np.unique(item_grades['course_item_id'].values)) + 1\n",
    "print length"
   ]
  },
  {
   "cell_type": "code",
   "execution_count": 12,
   "metadata": {
    "collapsed": true
   },
   "outputs": [],
   "source": [
    "users = np.unique(item_grades['mipt_user_id'].values)"
   ]
  },
  {
   "cell_type": "code",
   "execution_count": 13,
   "metadata": {
    "collapsed": false
   },
   "outputs": [
    {
     "data": {
      "text/plain": [
       "7513"
      ]
     },
     "execution_count": 13,
     "metadata": {},
     "output_type": "execute_result"
    }
   ],
   "source": [
    "len(users)"
   ]
  },
  {
   "cell_type": "code",
   "execution_count": 14,
   "metadata": {
    "collapsed": true
   },
   "outputs": [],
   "source": [
    "passing_states = item_grades['course_item_passing_state_id'].values"
   ]
  },
  {
   "cell_type": "code",
   "execution_count": 15,
   "metadata": {
    "collapsed": false
   },
   "outputs": [],
   "source": [
    "indexes = [2 == grade for grade in passing_states]"
   ]
  },
  {
   "cell_type": "code",
   "execution_count": 16,
   "metadata": {
    "collapsed": true
   },
   "outputs": [],
   "source": [
    "new_table = item_grades[indexes]"
   ]
  },
  {
   "cell_type": "code",
   "execution_count": 17,
   "metadata": {
    "collapsed": false
   },
   "outputs": [
    {
     "data": {
      "text/html": [
       "<div>\n",
       "<table border=\"1\" class=\"dataframe\">\n",
       "  <thead>\n",
       "    <tr style=\"text-align: right;\">\n",
       "      <th></th>\n",
       "      <th>course_id</th>\n",
       "      <th>course_item_id</th>\n",
       "      <th>mipt_user_id</th>\n",
       "      <th>course_item_grade_ts</th>\n",
       "      <th>course_item_passing_state_id</th>\n",
       "      <th>course_item_grade_overall</th>\n",
       "      <th>course_item_grade_verified</th>\n",
       "      <th>course_item_grade_pending</th>\n",
       "    </tr>\n",
       "  </thead>\n",
       "  <tbody>\n",
       "    <tr>\n",
       "      <th>1</th>\n",
       "      <td>RcnRZHHtEeWxvQr3acyajw</td>\n",
       "      <td>2yTvX</td>\n",
       "      <td>bcd1988c24894ccee77960bdb60bdbd1cae665ab</td>\n",
       "      <td>2016-02-19 20:49:23.533</td>\n",
       "      <td>2</td>\n",
       "      <td>1.0</td>\n",
       "      <td>1.0</td>\n",
       "      <td>0.0</td>\n",
       "    </tr>\n",
       "    <tr>\n",
       "      <th>2</th>\n",
       "      <td>RcnRZHHtEeWxvQr3acyajw</td>\n",
       "      <td>2yTvX</td>\n",
       "      <td>9c7bde301757cd54a6c7c13d616932caf5431447</td>\n",
       "      <td>2016-06-25 00:02:53.48</td>\n",
       "      <td>2</td>\n",
       "      <td>1.0</td>\n",
       "      <td>1.0</td>\n",
       "      <td>0.0</td>\n",
       "    </tr>\n",
       "    <tr>\n",
       "      <th>3</th>\n",
       "      <td>RcnRZHHtEeWxvQr3acyajw</td>\n",
       "      <td>2yTvX</td>\n",
       "      <td>c08b4c96e4c9da72c7c51cbb4eabd51b4b705fa4</td>\n",
       "      <td>2016-02-14 13:25:13.535</td>\n",
       "      <td>2</td>\n",
       "      <td>1.0</td>\n",
       "      <td>1.0</td>\n",
       "      <td>0.0</td>\n",
       "    </tr>\n",
       "    <tr>\n",
       "      <th>4</th>\n",
       "      <td>RcnRZHHtEeWxvQr3acyajw</td>\n",
       "      <td>2yTvX</td>\n",
       "      <td>bc58eea4796e08c6b31f1c40348890fa4166335a</td>\n",
       "      <td>2016-07-02 20:31:50.312</td>\n",
       "      <td>2</td>\n",
       "      <td>1.0</td>\n",
       "      <td>1.0</td>\n",
       "      <td>0.0</td>\n",
       "    </tr>\n",
       "    <tr>\n",
       "      <th>5</th>\n",
       "      <td>RcnRZHHtEeWxvQr3acyajw</td>\n",
       "      <td>2yTvX</td>\n",
       "      <td>27ae2411001108bd1981fae3cbdb8754a23cf6bc</td>\n",
       "      <td>2016-09-25 18:34:59.276</td>\n",
       "      <td>2</td>\n",
       "      <td>1.0</td>\n",
       "      <td>1.0</td>\n",
       "      <td>0.0</td>\n",
       "    </tr>\n",
       "  </tbody>\n",
       "</table>\n",
       "</div>"
      ],
      "text/plain": [
       "                course_id course_item_id  \\\n",
       "1  RcnRZHHtEeWxvQr3acyajw          2yTvX   \n",
       "2  RcnRZHHtEeWxvQr3acyajw          2yTvX   \n",
       "3  RcnRZHHtEeWxvQr3acyajw          2yTvX   \n",
       "4  RcnRZHHtEeWxvQr3acyajw          2yTvX   \n",
       "5  RcnRZHHtEeWxvQr3acyajw          2yTvX   \n",
       "\n",
       "                               mipt_user_id     course_item_grade_ts  \\\n",
       "1  bcd1988c24894ccee77960bdb60bdbd1cae665ab  2016-02-19 20:49:23.533   \n",
       "2  9c7bde301757cd54a6c7c13d616932caf5431447   2016-06-25 00:02:53.48   \n",
       "3  c08b4c96e4c9da72c7c51cbb4eabd51b4b705fa4  2016-02-14 13:25:13.535   \n",
       "4  bc58eea4796e08c6b31f1c40348890fa4166335a  2016-07-02 20:31:50.312   \n",
       "5  27ae2411001108bd1981fae3cbdb8754a23cf6bc  2016-09-25 18:34:59.276   \n",
       "\n",
       "   course_item_passing_state_id  course_item_grade_overall  \\\n",
       "1                             2                        1.0   \n",
       "2                             2                        1.0   \n",
       "3                             2                        1.0   \n",
       "4                             2                        1.0   \n",
       "5                             2                        1.0   \n",
       "\n",
       "   course_item_grade_verified  course_item_grade_pending  \n",
       "1                         1.0                        0.0  \n",
       "2                         1.0                        0.0  \n",
       "3                         1.0                        0.0  \n",
       "4                         1.0                        0.0  \n",
       "5                         1.0                        0.0  "
      ]
     },
     "execution_count": 17,
     "metadata": {},
     "output_type": "execute_result"
    }
   ],
   "source": [
    "new_table.head()"
   ]
  },
  {
   "cell_type": "code",
   "execution_count": 18,
   "metadata": {
    "collapsed": false
   },
   "outputs": [],
   "source": [
    "x = new_table[new_table['mipt_user_id'] == 'f21a9feb2a54ac53e696063de8d963c80310f318']"
   ]
  },
  {
   "cell_type": "code",
   "execution_count": 19,
   "metadata": {
    "collapsed": false
   },
   "outputs": [
    {
     "name": "stdout",
     "output_type": "stream",
     "text": [
      "14\n"
     ]
    }
   ],
   "source": [
    "\n",
    "print x.shape[0]\n",
    "dict_1 = {}\n",
    "for i in range(length):\n",
    "    dict_1[i] = 0"
   ]
  },
  {
   "cell_type": "code",
   "execution_count": 20,
   "metadata": {
    "collapsed": false
   },
   "outputs": [
    {
     "data": {
      "text/plain": [
       "0"
      ]
     },
     "execution_count": 20,
     "metadata": {},
     "output_type": "execute_result"
    }
   ],
   "source": [
    "dict_1[0]"
   ]
  },
  {
   "cell_type": "code",
   "execution_count": 21,
   "metadata": {
    "collapsed": false
   },
   "outputs": [],
   "source": [
    "for user in users:\n",
    "    x = new_table[new_table['mipt_user_id'] == user]\n",
    "    k = int(x.shape[0])\n",
    "    #print k\n",
    "    s = dict_1[k]\n",
    "    m = s + 1\n",
    "    dict_1[k] = m"
   ]
  },
  {
   "cell_type": "code",
   "execution_count": 22,
   "metadata": {
    "collapsed": false
   },
   "outputs": [
    {
     "data": {
      "text/plain": [
       "[4323, 127, 104, 279, 120, 139, 290, 90, 52, 59, 75, 152, 190, 255, 1258]"
      ]
     },
     "execution_count": 22,
     "metadata": {},
     "output_type": "execute_result"
    }
   ],
   "source": [
    "dict_1.values()"
   ]
  },
  {
   "cell_type": "code",
   "execution_count": 23,
   "metadata": {
    "collapsed": true
   },
   "outputs": [],
   "source": [
    "values = dict_1.values()"
   ]
  },
  {
   "cell_type": "code",
   "execution_count": 27,
   "metadata": {
    "collapsed": false
   },
   "outputs": [],
   "source": [
    "last = pd.DataFrame()\n",
    "last['number'] = range(length)\n",
    "last['values'] = values\n",
    "last.to_csv('last.csv')"
   ]
  },
  {
   "cell_type": "code",
   "execution_count": 30,
   "metadata": {
    "collapsed": false
   },
   "outputs": [],
   "source": []
  },
  {
   "cell_type": "code",
   "execution_count": null,
   "metadata": {
    "collapsed": true
   },
   "outputs": [],
   "source": []
  }
 ],
 "metadata": {
  "kernelspec": {
   "display_name": "Python 2",
   "language": "python",
   "name": "python2"
  },
  "language_info": {
   "codemirror_mode": {
    "name": "ipython",
    "version": 2
   },
   "file_extension": ".py",
   "mimetype": "text/x-python",
   "name": "python",
   "nbconvert_exporter": "python",
   "pygments_lexer": "ipython2",
   "version": "2.7.11"
  }
 },
 "nbformat": 4,
 "nbformat_minor": 0
}
