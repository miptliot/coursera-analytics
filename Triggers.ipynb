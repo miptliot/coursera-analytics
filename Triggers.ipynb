{
 "cells": [
  {
   "cell_type": "code",
   "execution_count": 1,
   "metadata": {
    "collapsed": true
   },
   "outputs": [],
   "source": [
    "import pandas as pd\n",
    "import time\n",
    "from datetime import timedelta, datetime\n",
    "import numpy as np\n",
    "import matplotlib.pyplot as plt\n",
    "%matplotlib inline"
   ]
  },
  {
   "cell_type": "markdown",
   "metadata": {},
   "source": [
    "# Разделение пользователей по группам для рассылки"
   ]
  },
  {
   "cell_type": "code",
   "execution_count": 52,
   "metadata": {
    "collapsed": false
   },
   "outputs": [
    {
     "data": {
      "text/html": [
       "<div>\n",
       "<table border=\"1\" class=\"dataframe\">\n",
       "  <thead>\n",
       "    <tr style=\"text-align: right;\">\n",
       "      <th></th>\n",
       "      <th>mipt_user_id</th>\n",
       "      <th>course_id</th>\n",
       "      <th>met_payment_condition</th>\n",
       "      <th>was_payment</th>\n",
       "      <th>was_finaid_grant</th>\n",
       "      <th>was_group_sponsored</th>\n",
       "    </tr>\n",
       "  </thead>\n",
       "  <tbody>\n",
       "    <tr>\n",
       "      <th>0</th>\n",
       "      <td>74b19c8bcac1e1a2f6bbc57504e1fab9393d2e8f</td>\n",
       "      <td>RcnRZHHtEeWxvQr3acyajw</td>\n",
       "      <td>t</td>\n",
       "      <td>f</td>\n",
       "      <td>t</td>\n",
       "      <td>f</td>\n",
       "    </tr>\n",
       "    <tr>\n",
       "      <th>1</th>\n",
       "      <td>8a43b95a0e1e7995fbb7fc896d1ac0c4fbe5de30</td>\n",
       "      <td>RcnRZHHtEeWxvQr3acyajw</td>\n",
       "      <td>t</td>\n",
       "      <td>t</td>\n",
       "      <td>f</td>\n",
       "      <td>f</td>\n",
       "    </tr>\n",
       "    <tr>\n",
       "      <th>2</th>\n",
       "      <td>71fc78640755c1d77147d38caa7b2c7ad3095c72</td>\n",
       "      <td>RcnRZHHtEeWxvQr3acyajw</td>\n",
       "      <td>t</td>\n",
       "      <td>t</td>\n",
       "      <td>f</td>\n",
       "      <td>f</td>\n",
       "    </tr>\n",
       "    <tr>\n",
       "      <th>3</th>\n",
       "      <td>b9687946af32ca0e8f52a153f073e1b15af4c7d1</td>\n",
       "      <td>RcnRZHHtEeWxvQr3acyajw</td>\n",
       "      <td>t</td>\n",
       "      <td>f</td>\n",
       "      <td>f</td>\n",
       "      <td>t</td>\n",
       "    </tr>\n",
       "    <tr>\n",
       "      <th>4</th>\n",
       "      <td>b9d0f49f7bf359fca2189729149faa9386e54a81</td>\n",
       "      <td>RcnRZHHtEeWxvQr3acyajw</td>\n",
       "      <td>t</td>\n",
       "      <td>t</td>\n",
       "      <td>f</td>\n",
       "      <td>f</td>\n",
       "    </tr>\n",
       "  </tbody>\n",
       "</table>\n",
       "</div>"
      ],
      "text/plain": [
       "                               mipt_user_id               course_id  \\\n",
       "0  74b19c8bcac1e1a2f6bbc57504e1fab9393d2e8f  RcnRZHHtEeWxvQr3acyajw   \n",
       "1  8a43b95a0e1e7995fbb7fc896d1ac0c4fbe5de30  RcnRZHHtEeWxvQr3acyajw   \n",
       "2  71fc78640755c1d77147d38caa7b2c7ad3095c72  RcnRZHHtEeWxvQr3acyajw   \n",
       "3  b9687946af32ca0e8f52a153f073e1b15af4c7d1  RcnRZHHtEeWxvQr3acyajw   \n",
       "4  b9d0f49f7bf359fca2189729149faa9386e54a81  RcnRZHHtEeWxvQr3acyajw   \n",
       "\n",
       "  met_payment_condition was_payment was_finaid_grant was_group_sponsored  \n",
       "0                     t           f                t                   f  \n",
       "1                     t           t                f                   f  \n",
       "2                     t           t                f                   f  \n",
       "3                     t           f                f                   t  \n",
       "4                     t           t                f                   f  "
      ]
     },
     "execution_count": 52,
     "metadata": {},
     "output_type": "execute_result"
    }
   ],
   "source": [
    "payments = pd.read_csv('users_courses__certificate_payments.csv')\n",
    "payments.head()"
   ]
  },
  {
   "cell_type": "markdown",
   "metadata": {},
   "source": [
    "### Description from coursera's guide"
   ]
  },
  {
   "cell_type": "markdown",
   "metadata": {},
   "source": [
    "The\t*users_courses__certificate_payments*\ttable\tprovides\tdetails\ton\twhether\tan\n",
    "enrollment\thas\tmet\tthe\tpayment\tcondition\tfor\tthe\teligibility\tof\tearning\ta\tCourse\tCertificate. Below\tare\tthe\tthree\tpaths\tto\tmeet\tthe\tpayment\tcondition:"
   ]
  },
  {
   "cell_type": "markdown",
   "metadata": {},
   "source": [
    "The\tboolean\tcolumn,\t \t*was_payment*\t ,\tstates\twhether\tthe\tlearner\thas\tever\tpaid\tfor\tthe\n",
    "eligibility\tof\ta\tcourse\tcertificate,\tenrolled\tin\tthe\tcourse,\tand\thas\tnot\tmade\ta\trefund.\tThis\n",
    "purchase\tcould\tbe\ta\t\"single\tpayment\"\tfor\tthe\tcourse\tor\ta\t\"bulk\tpayment\"\tfor\ta\n",
    "specialization\tthat\tcontains\tthe\tcourse.\tFor\tbulk\tpayments,\tthis\ttable\twill\tonly\tcontain\n",
    "rows\tfor\tthose\tspecalization's\tcourses\t(or\tcapstone)\tthat\tuser\thas\talready\tenrolled\tin.\n",
    "For\texample,\ta\tlearner\twho\thas\tjust\tpurchased\ta\tfour-course\tspecialization\twill\tlikely\tbe\n",
    "enrolled\tin\tthe\tfirst\tcourse,\twhich\tadds\ta\trow\tto\tthis\ttable.\tOnly\tafter\tthe\tlearner\tenrolls\n",
    "in\tthe\tspecialization's\tsecond\tcourse\twill\ta\tsecond\trow\tappear."
   ]
  },
  {
   "cell_type": "markdown",
   "metadata": {},
   "source": [
    "The\tboolean\tcolumn,\t \t*was_finaid_grant*\t ,\tstates\twhether\tthe\tlearner\thas\tever\tbeen\n",
    "granted\tfinancial\taid\tfor\tthe\tcourse.\tA\tlearner\tcan\tonly\tapply\tand\tbe\tgranted\tfinancial\n",
    "aid\tto\tcourses\tand\tnot\tto\tan\tentire\tspecialization\tat\tonce.\tOf\tnote,\tthere\tare\ta\tfew\tcases\n",
    "where\tthe\tlearner\tapplied\tand\twas\tgranted\tfinancial\taid\tand\tthen\tlater\tpaid\tfor\tthe\n",
    "course."
   ]
  },
  {
   "cell_type": "markdown",
   "metadata": {},
   "source": [
    "The\tboolean\tcolumn,\t \t*was_group_sponsored*\t ,\tstates\twhether\tthe\tlearner\thas\tever\tbeen\n",
    "sponsored\tto\tmeet\tthe\tpayment\tcriteria\tby\tbeing\ta\tmember\tof\ta\tCoursera\tgroup\twhich\n",
    "has\tthe\tpremium\texperience\tenabled."
   ]
  },
  {
   "cell_type": "markdown",
   "metadata": {},
   "source": [
    "The\tlast\tboolean\tcolumn,\t \t*met_payment_condition*\t ,\tstates\twhether\tthe\tuser\thas\tever\tmet\tthe\n",
    "payment\tcondition\tto\tbe\teligible\tfor\tthe\tcourse\tcertificate.\tThis\tis\tcalculated\tvia\tthe\tlogical\n",
    "'OR'\tof\tthe\tthree\tother\tcolumns\tabove."
   ]
  },
  {
   "cell_type": "code",
   "execution_count": 25,
   "metadata": {
    "collapsed": false,
    "scrolled": false
   },
   "outputs": [
    {
     "data": {
      "text/plain": [
       "(3075, 6)"
      ]
     },
     "execution_count": 25,
     "metadata": {},
     "output_type": "execute_result"
    }
   ],
   "source": [
    "payments.shape"
   ]
  },
  {
   "cell_type": "code",
   "execution_count": 26,
   "metadata": {
    "collapsed": false
   },
   "outputs": [
    {
     "name": "stdout",
     "output_type": "stream",
     "text": [
      "(3075, 6)\n"
     ]
    }
   ],
   "source": [
    "met = payments[payments['met_payment_condition'] == 't']\n",
    "print met.shape # Получается,что все пользователи в этой таблице имеют доступ к курсу\n",
    "met_payment_users = np.unique(met['mipt_user_id'].values)"
   ]
  },
  {
   "cell_type": "code",
   "execution_count": 27,
   "metadata": {
    "collapsed": false
   },
   "outputs": [],
   "source": [
    "was_payment = payments[payments['was_payment'] == 't']\n",
    "was_payment_users = np.unique(was_payment['mipt_user_id'].values) #Юзеры, заплатившие за курс"
   ]
  },
  {
   "cell_type": "code",
   "execution_count": 29,
   "metadata": {
    "collapsed": false
   },
   "outputs": [
    {
     "data": {
      "text/plain": [
       "(2364089, 5)"
      ]
     },
     "execution_count": 29,
     "metadata": {},
     "output_type": "execute_result"
    }
   ],
   "source": [
    "prog = pd.read_csv('course_progress.csv')\n",
    "prog.shape"
   ]
  },
  {
   "cell_type": "code",
   "execution_count": 30,
   "metadata": {
    "collapsed": false
   },
   "outputs": [
    {
     "name": "stdout",
     "output_type": "stream",
     "text": [
      "10690\n"
     ]
    }
   ],
   "source": [
    "print len(np.unique(prog['mipt_user_id'].values)) #Количество всех уникальных юзеров,\n",
    "                                                                    #проявивших активность на курсе"
   ]
  },
  {
   "cell_type": "code",
   "execution_count": 31,
   "metadata": {
    "collapsed": false
   },
   "outputs": [],
   "source": [
    "prog_users = np.unique(prog['mipt_user_id'].values) #Юзеры, проявившие хоть какую-то активность на курсе"
   ]
  },
  {
   "cell_type": "code",
   "execution_count": 50,
   "metadata": {
    "collapsed": false,
    "scrolled": true
   },
   "outputs": [
    {
     "name": "stdout",
     "output_type": "stream",
     "text": [
      "7710\n"
     ]
    }
   ],
   "source": [
    "first_group_users = [] #Интересовались курсом, но не имеет к нему доступа\n",
    "for user in prog_users:\n",
    "    if not(user in met_payment_users):\n",
    "        first_group_users.append(user)\n",
    "print len(first_group_users)"
   ]
  },
  {
   "cell_type": "code",
   "execution_count": 55,
   "metadata": {
    "collapsed": false
   },
   "outputs": [
    {
     "name": "stdout",
     "output_type": "stream",
     "text": [
      "25\n"
     ]
    }
   ],
   "source": [
    "second_group_users = [] #Купили курс за деньги, но ни разу ничего на нём не делали\n",
    "for user in was_payment_users:\n",
    "    if not(user in prog_users):\n",
    "        second_group_users.append(user)\n",
    "print len(second_group_users)"
   ]
  },
  {
   "cell_type": "code",
   "execution_count": 56,
   "metadata": {
    "collapsed": false
   },
   "outputs": [
    {
     "data": {
      "text/html": [
       "<div>\n",
       "<table border=\"1\" class=\"dataframe\">\n",
       "  <thead>\n",
       "    <tr style=\"text-align: right;\">\n",
       "      <th></th>\n",
       "      <th>course_item_type_id</th>\n",
       "      <th>course_item_type_desc</th>\n",
       "      <th>course_item_type_category</th>\n",
       "      <th>course_item_type_graded</th>\n",
       "    </tr>\n",
       "  </thead>\n",
       "  <tbody>\n",
       "    <tr>\n",
       "      <th>0</th>\n",
       "      <td>1</td>\n",
       "      <td>lecture</td>\n",
       "      <td>lecture</td>\n",
       "      <td>f</td>\n",
       "    </tr>\n",
       "    <tr>\n",
       "      <th>1</th>\n",
       "      <td>7</td>\n",
       "      <td>others</td>\n",
       "      <td>NaN</td>\n",
       "      <td>NaN</td>\n",
       "    </tr>\n",
       "    <tr>\n",
       "      <th>2</th>\n",
       "      <td>10</td>\n",
       "      <td>graded programming</td>\n",
       "      <td>programming</td>\n",
       "      <td>t</td>\n",
       "    </tr>\n",
       "    <tr>\n",
       "      <th>3</th>\n",
       "      <td>8</td>\n",
       "      <td>graded peer</td>\n",
       "      <td>peer</td>\n",
       "      <td>t</td>\n",
       "    </tr>\n",
       "    <tr>\n",
       "      <th>4</th>\n",
       "      <td>9</td>\n",
       "      <td>closed peer</td>\n",
       "      <td>peer</td>\n",
       "      <td>t</td>\n",
       "    </tr>\n",
       "  </tbody>\n",
       "</table>\n",
       "</div>"
      ],
      "text/plain": [
       "   course_item_type_id course_item_type_desc course_item_type_category  \\\n",
       "0                    1               lecture                   lecture   \n",
       "1                    7                others                       NaN   \n",
       "2                   10    graded programming               programming   \n",
       "3                    8           graded peer                      peer   \n",
       "4                    9           closed peer                      peer   \n",
       "\n",
       "  course_item_type_graded  \n",
       "0                       f  \n",
       "1                     NaN  \n",
       "2                       t  \n",
       "3                       t  \n",
       "4                       t  "
      ]
     },
     "execution_count": 56,
     "metadata": {},
     "output_type": "execute_result"
    }
   ],
   "source": [
    "course_branch_items = pd.read_csv('course_branch_items.csv') #Здесь содержится список заданий на этом курсе\n",
    "course_item_types = pd.read_csv('course_item_types.csv') #Здесь можно посмотреть тип задания\n",
    "course_item_types.head()"
   ]
  },
  {
   "cell_type": "code",
   "execution_count": 57,
   "metadata": {
    "collapsed": false
   },
   "outputs": [
    {
     "data": {
      "text/html": [
       "<div>\n",
       "<table border=\"1\" class=\"dataframe\">\n",
       "  <thead>\n",
       "    <tr style=\"text-align: right;\">\n",
       "      <th></th>\n",
       "      <th>course_branch_id</th>\n",
       "      <th>course_item_id</th>\n",
       "      <th>course_lesson_id</th>\n",
       "      <th>course_branch_item_order</th>\n",
       "      <th>course_item_type_id</th>\n",
       "      <th>course_branch_item_name</th>\n",
       "      <th>course_branch_item_optional</th>\n",
       "    </tr>\n",
       "  </thead>\n",
       "  <tbody>\n",
       "    <tr>\n",
       "      <th>0</th>\n",
       "      <td>RcnRZHHtEeWxvQr3acyajw</td>\n",
       "      <td>4JOsD</td>\n",
       "      <td>GjkOB</td>\n",
       "      <td>5</td>\n",
       "      <td>1</td>\n",
       "      <td>Направление наискорейшего роста</td>\n",
       "      <td>f</td>\n",
       "    </tr>\n",
       "    <tr>\n",
       "      <th>1</th>\n",
       "      <td>RcnRZHHtEeWxvQr3acyajw</td>\n",
       "      <td>TsbZO</td>\n",
       "      <td>AoSvR</td>\n",
       "      <td>11</td>\n",
       "      <td>3</td>\n",
       "      <td>Конспект</td>\n",
       "      <td>f</td>\n",
       "    </tr>\n",
       "    <tr>\n",
       "      <th>2</th>\n",
       "      <td>RcnRZHHtEeWxvQr3acyajw</td>\n",
       "      <td>MYHaa</td>\n",
       "      <td>GjkOB</td>\n",
       "      <td>0</td>\n",
       "      <td>1</td>\n",
       "      <td>Частные производные и градиент</td>\n",
       "      <td>f</td>\n",
       "    </tr>\n",
       "    <tr>\n",
       "      <th>3</th>\n",
       "      <td>RcnRZHHtEeWxvQr3acyajw</td>\n",
       "      <td>BoR1U</td>\n",
       "      <td>o6B9F</td>\n",
       "      <td>5</td>\n",
       "      <td>3</td>\n",
       "      <td>Конспект</td>\n",
       "      <td>f</td>\n",
       "    </tr>\n",
       "    <tr>\n",
       "      <th>4</th>\n",
       "      <td>RcnRZHHtEeWxvQr3acyajw</td>\n",
       "      <td>rcjAW</td>\n",
       "      <td>kEVhr</td>\n",
       "      <td>0</td>\n",
       "      <td>1</td>\n",
       "      <td>Pandas. Data Frame</td>\n",
       "      <td>f</td>\n",
       "    </tr>\n",
       "  </tbody>\n",
       "</table>\n",
       "</div>"
      ],
      "text/plain": [
       "         course_branch_id course_item_id course_lesson_id  \\\n",
       "0  RcnRZHHtEeWxvQr3acyajw          4JOsD            GjkOB   \n",
       "1  RcnRZHHtEeWxvQr3acyajw          TsbZO            AoSvR   \n",
       "2  RcnRZHHtEeWxvQr3acyajw          MYHaa            GjkOB   \n",
       "3  RcnRZHHtEeWxvQr3acyajw          BoR1U            o6B9F   \n",
       "4  RcnRZHHtEeWxvQr3acyajw          rcjAW            kEVhr   \n",
       "\n",
       "   course_branch_item_order  course_item_type_id  \\\n",
       "0                         5                    1   \n",
       "1                        11                    3   \n",
       "2                         0                    1   \n",
       "3                         5                    3   \n",
       "4                         0                    1   \n",
       "\n",
       "           course_branch_item_name course_branch_item_optional  \n",
       "0  Направление наискорейшего роста                           f  \n",
       "1                         Конспект                           f  \n",
       "2   Частные производные и градиент                           f  \n",
       "3                         Конспект                           f  \n",
       "4               Pandas. Data Frame                           f  "
      ]
     },
     "execution_count": 57,
     "metadata": {},
     "output_type": "execute_result"
    }
   ],
   "source": [
    "course_branch_items.head()"
   ]
  },
  {
   "cell_type": "code",
   "execution_count": 58,
   "metadata": {
    "collapsed": true
   },
   "outputs": [],
   "source": [
    "#Создадим список заданий, которые будут являться индикаторами того,что человек выполняет оценочные задания\n",
    "programming_types = course_branch_items[course_branch_items['course_item_type_id'] == 10]\n",
    "graded_peer_types = course_branch_items[course_branch_items['course_item_type_id'] == 8]\n",
    "peer_types = course_branch_items[course_branch_items['course_item_type_id'] == 4]\n",
    "phased_peer = course_branch_items[course_branch_items['course_item_type_id'] == 12]\n",
    "exam_quiz = course_branch_items[course_branch_items['course_item_type_id'] == 6]\n",
    "practice_quiz = course_branch_items[course_branch_items['course_item_type_id'] == 5]\n",
    "assessments = pd.concat([programming_types, graded_peer_types,phased_peer,peer_types,exam_quiz])\n",
    "tasks = np.unique(assessments['course_item_id'].values)"
   ]
  },
  {
   "cell_type": "code",
   "execution_count": 59,
   "metadata": {
    "collapsed": true
   },
   "outputs": [],
   "source": [
    "indexes = [task in tasks for task in whole_tasks]"
   ]
  },
  {
   "cell_type": "code",
   "execution_count": 61,
   "metadata": {
    "collapsed": false
   },
   "outputs": [],
   "source": [
    "learner_prog = prog.iloc[indexes]\n",
    "learners = np.unique(learner_prog['mipt_user_id'].values) #Юзеры,которые выполняли оценочные задания"
   ]
  },
  {
   "cell_type": "code",
   "execution_count": 54,
   "metadata": {
    "collapsed": false
   },
   "outputs": [
    {
     "data": {
      "text/plain": [
       "10414"
      ]
     },
     "execution_count": 54,
     "metadata": {},
     "output_type": "execute_result"
    }
   ],
   "source": [
    "lectures = course_branch_items[course_branch_items['course_item_type_id'] == 1]\n",
    "lecture_items = np.unique(lectures['course_item_id'].values)\n",
    "whole_tasks = list(prog['course_item_id'].values)\n",
    "indexes = [task in lecture_items for task in whole_tasks]\n",
    "lecture_prog = prog.iloc[indexes]\n",
    "lecture_users = np.unique(lecture_prog['mipt_user_id'].values) #Юзеры,которые смотрели видео\n",
    "len(lecture_users)"
   ]
  },
  {
   "cell_type": "code",
   "execution_count": 62,
   "metadata": {
    "collapsed": true
   },
   "outputs": [],
   "source": [
    "third_group_users = [] #Купили курс,просматривали видео,но не приступали к оценочным заданиям\n",
    "for user in was_payment_users:\n",
    "    if not(user in learners) and (user in lecture_users):\n",
    "        third_group_users.append(user)"
   ]
  },
  {
   "cell_type": "code",
   "execution_count": 63,
   "metadata": {
    "collapsed": false
   },
   "outputs": [
    {
     "name": "stdout",
     "output_type": "stream",
     "text": [
      "126 25\n"
     ]
    }
   ],
   "source": [
    "print len(third_group_users), len(second_group_users)"
   ]
  },
  {
   "cell_type": "code",
   "execution_count": 65,
   "metadata": {
    "collapsed": false
   },
   "outputs": [
    {
     "data": {
      "text/html": [
       "<div>\n",
       "<table border=\"1\" class=\"dataframe\">\n",
       "  <thead>\n",
       "    <tr style=\"text-align: right;\">\n",
       "      <th></th>\n",
       "      <th>course_id</th>\n",
       "      <th>mipt_user_id</th>\n",
       "      <th>course_grade_ts</th>\n",
       "      <th>course_passing_state_id</th>\n",
       "      <th>course_grade_overall_passed_items</th>\n",
       "      <th>course_grade_overall</th>\n",
       "      <th>course_grade_verified_passed_items</th>\n",
       "      <th>course_grade_verified</th>\n",
       "    </tr>\n",
       "  </thead>\n",
       "  <tbody>\n",
       "    <tr>\n",
       "      <th>0</th>\n",
       "      <td>RcnRZHHtEeWxvQr3acyajw</td>\n",
       "      <td>0073db5ea45438901c26a2ef08c2db9c8394c06f</td>\n",
       "      <td>2016-04-04 16:51:59.323</td>\n",
       "      <td>2</td>\n",
       "      <td>14</td>\n",
       "      <td>1.000000</td>\n",
       "      <td>14</td>\n",
       "      <td>1.000000</td>\n",
       "    </tr>\n",
       "    <tr>\n",
       "      <th>1</th>\n",
       "      <td>RcnRZHHtEeWxvQr3acyajw</td>\n",
       "      <td>947ddd151ab1aaa616ee74693f5d0bb9392d573b</td>\n",
       "      <td>2016-05-03 04:43:23.695</td>\n",
       "      <td>2</td>\n",
       "      <td>14</td>\n",
       "      <td>0.978444</td>\n",
       "      <td>14</td>\n",
       "      <td>0.978444</td>\n",
       "    </tr>\n",
       "    <tr>\n",
       "      <th>2</th>\n",
       "      <td>RcnRZHHtEeWxvQr3acyajw</td>\n",
       "      <td>1d0b3ef69e8687bd689bc9e1d76cd86e8648eafc</td>\n",
       "      <td>2016-03-07 01:10:07.052</td>\n",
       "      <td>2</td>\n",
       "      <td>14</td>\n",
       "      <td>0.975000</td>\n",
       "      <td>14</td>\n",
       "      <td>0.975000</td>\n",
       "    </tr>\n",
       "    <tr>\n",
       "      <th>3</th>\n",
       "      <td>RcnRZHHtEeWxvQr3acyajw</td>\n",
       "      <td>14cd3490328aef55a631676f59b65fb34be07148</td>\n",
       "      <td>2016-04-03 11:14:24.611</td>\n",
       "      <td>0</td>\n",
       "      <td>13</td>\n",
       "      <td>0.861052</td>\n",
       "      <td>13</td>\n",
       "      <td>0.861052</td>\n",
       "    </tr>\n",
       "    <tr>\n",
       "      <th>4</th>\n",
       "      <td>RcnRZHHtEeWxvQr3acyajw</td>\n",
       "      <td>e3cf7a3f2ac426421b76233c9d8c0a81c6afc0b8</td>\n",
       "      <td>2016-07-29 14:26:44.051</td>\n",
       "      <td>2</td>\n",
       "      <td>14</td>\n",
       "      <td>1.000000</td>\n",
       "      <td>14</td>\n",
       "      <td>1.000000</td>\n",
       "    </tr>\n",
       "  </tbody>\n",
       "</table>\n",
       "</div>"
      ],
      "text/plain": [
       "                course_id                              mipt_user_id  \\\n",
       "0  RcnRZHHtEeWxvQr3acyajw  0073db5ea45438901c26a2ef08c2db9c8394c06f   \n",
       "1  RcnRZHHtEeWxvQr3acyajw  947ddd151ab1aaa616ee74693f5d0bb9392d573b   \n",
       "2  RcnRZHHtEeWxvQr3acyajw  1d0b3ef69e8687bd689bc9e1d76cd86e8648eafc   \n",
       "3  RcnRZHHtEeWxvQr3acyajw  14cd3490328aef55a631676f59b65fb34be07148   \n",
       "4  RcnRZHHtEeWxvQr3acyajw  e3cf7a3f2ac426421b76233c9d8c0a81c6afc0b8   \n",
       "\n",
       "           course_grade_ts  course_passing_state_id  \\\n",
       "0  2016-04-04 16:51:59.323                        2   \n",
       "1  2016-05-03 04:43:23.695                        2   \n",
       "2  2016-03-07 01:10:07.052                        2   \n",
       "3  2016-04-03 11:14:24.611                        0   \n",
       "4  2016-07-29 14:26:44.051                        2   \n",
       "\n",
       "   course_grade_overall_passed_items  course_grade_overall  \\\n",
       "0                                 14              1.000000   \n",
       "1                                 14              0.978444   \n",
       "2                                 14              0.975000   \n",
       "3                                 13              0.861052   \n",
       "4                                 14              1.000000   \n",
       "\n",
       "   course_grade_verified_passed_items  course_grade_verified  \n",
       "0                                  14               1.000000  \n",
       "1                                  14               0.978444  \n",
       "2                                  14               0.975000  \n",
       "3                                  13               0.861052  \n",
       "4                                  14               1.000000  "
      ]
     },
     "execution_count": 65,
     "metadata": {},
     "output_type": "execute_result"
    }
   ],
   "source": [
    "course_grades = pd.read_csv('course_grades.csv')\n",
    "course_grades.head()"
   ]
  },
  {
   "cell_type": "code",
   "execution_count": 66,
   "metadata": {
    "collapsed": false
   },
   "outputs": [],
   "source": [
    "#Найдём юзеров,которые не смогли полностью пройти курс\n",
    "not_passed_course_grades = course_grades[course_grades['course_passing_state_id'] == 0]\n",
    "not_passed_course_users = np.unique(not_passed_course_grades['mipt_user_id'].values)"
   ]
  },
  {
   "cell_type": "code",
   "execution_count": 67,
   "metadata": {
    "collapsed": true
   },
   "outputs": [],
   "source": [
    "fourth_group_users = [] #Купили курс,начали выполнение заданий, но \"отвалились\"\n",
    "for user in was_payment_users:\n",
    "    if user in learners and user in not_passed_course_users:\n",
    "        fourth_group_users.append(user)"
   ]
  },
  {
   "cell_type": "code",
   "execution_count": 68,
   "metadata": {
    "collapsed": false,
    "scrolled": true
   },
   "outputs": [
    {
     "data": {
      "text/plain": [
       "671"
      ]
     },
     "execution_count": 68,
     "metadata": {},
     "output_type": "execute_result"
    }
   ],
   "source": [
    "len(fourth_group_users)"
   ]
  },
  {
   "cell_type": "code",
   "execution_count": 69,
   "metadata": {
    "collapsed": false
   },
   "outputs": [],
   "source": [
    "#Следующая задача состоит в том,чтобы найти пользователей которые 1) Купили 1 курс,но перестали покупать\n",
    "                                                                # 2) Купили несколько,но перестали покупать\n",
    "payments_1 = pd.read_csv('users_courses__certificate_payments(1).csv')\n",
    "payments_2 = pd.read_csv('users_courses__certificate_payments(2).csv')\n",
    "payments_3 = pd.read_csv('users_courses__certificate_payments(3).csv')\n",
    "payments_4 = pd.read_csv('users_courses__certificate_payments(4).csv')"
   ]
  },
  {
   "cell_type": "code",
   "execution_count": 70,
   "metadata": {
    "collapsed": true
   },
   "outputs": [],
   "source": [
    "paid_1 = payments_1[payments_1['was_payment'] == 't']\n",
    "paid_2 = payments_2[payments_2['was_payment'] == 't']\n",
    "paid_3 = payments_3[payments_3['was_payment'] == 't']\n",
    "paid_4 = payments_4[payments_4['was_payment'] == 't']\n",
    "users_1 = np.unique(paid_1['mipt_user_id'].values)\n",
    "users_2 = np.unique(paid_2['mipt_user_id'].values)\n",
    "users_3 = np.unique(paid_3['mipt_user_id'].values)\n",
    "users_4 = np.unique(paid_4['mipt_user_id'].values)"
   ]
  },
  {
   "cell_type": "code",
   "execution_count": 72,
   "metadata": {
    "collapsed": false
   },
   "outputs": [
    {
     "name": "stdout",
     "output_type": "stream",
     "text": [
      "1492 630 320 222\n"
     ]
    }
   ],
   "source": [
    "print len(users_1), len(users_2), len(users_3), len(users_4)\n",
    "all_users = np.unique(np.concatenate([users_1,users_2,users_3,users_4]))"
   ]
  },
  {
   "cell_type": "code",
   "execution_count": 75,
   "metadata": {
    "collapsed": false
   },
   "outputs": [
    {
     "name": "stdout",
     "output_type": "stream",
     "text": [
      "30\n"
     ]
    }
   ],
   "source": [
    "#Этот кусок кода можно пропустить.Здесь лишь показано,что существуют юзеры,которые покупают курс не по порядку\n",
    "###\n",
    "try_users = np.concatenate([users_2,users_3,users_4])\n",
    "groups = [users_1,users_2,users_3,users_4]\n",
    "try_users = np.unique(try_users)\n",
    "len(try_users)\n",
    "k = 0\n",
    "for user in try_users:\n",
    "    if not user in users_1:\n",
    "        k += 1\n",
    "print k"
   ]
  },
  {
   "cell_type": "code",
   "execution_count": 76,
   "metadata": {
    "collapsed": false
   },
   "outputs": [],
   "source": [
    "pay_dict = {}\n",
    "for user in all_users:\n",
    "    pay_dict[user] = 0\n",
    "for group in groups:\n",
    "    for user in group:\n",
    "        k = pay_dict[user]\n",
    "        pay_dict[user] = k + 1"
   ]
  },
  {
   "cell_type": "code",
   "execution_count": 81,
   "metadata": {
    "collapsed": false
   },
   "outputs": [],
   "source": [
    "single = [] #Купили один курс,но перестали покупать\n",
    "for user in pay_dict:\n",
    "    if pay_dict[user] == 1:\n",
    "        single.append(user)"
   ]
  },
  {
   "cell_type": "code",
   "execution_count": 82,
   "metadata": {
    "collapsed": false
   },
   "outputs": [],
   "source": [
    "multiple = [] #Купили несколько курсов,но перестали покупать\n",
    "for user in pay_dict:\n",
    "    if pay_dict[user] == 2 or pay_dict[user] == 3:\n",
    "        multiple.append(user)"
   ]
  },
  {
   "cell_type": "code",
   "execution_count": 83,
   "metadata": {
    "collapsed": false,
    "scrolled": true
   },
   "outputs": [
    {
     "name": "stdout",
     "output_type": "stream",
     "text": [
      "898 425\n"
     ]
    }
   ],
   "source": [
    "print len(single), len(multiple)"
   ]
  },
  {
   "cell_type": "code",
   "execution_count": 89,
   "metadata": {
    "collapsed": true
   },
   "outputs": [],
   "source": [
    "id_1_df = pd.DataFrame()\n",
    "id_2_df = pd.DataFrame()\n",
    "id_3_df = pd.DataFrame()\n",
    "id_4_df = pd.DataFrame()\n",
    "id_5_df = pd.DataFrame()\n",
    "id_6_df = pd.DataFrame()"
   ]
  },
  {
   "cell_type": "code",
   "execution_count": 90,
   "metadata": {
    "collapsed": false
   },
   "outputs": [],
   "source": [
    "id_1_df['id_1'] = first_group_users\n",
    "id_2_df['id_2'] = second_group_users\n",
    "id_3_df['id_3'] = third_group_users\n",
    "id_4_df['id_4'] = fourth_group_users\n",
    "id_5_df['id_5'] = single\n",
    "id_6_df['id_6'] = multiple"
   ]
  },
  {
   "cell_type": "code",
   "execution_count": 92,
   "metadata": {
    "collapsed": true
   },
   "outputs": [],
   "source": [
    "id_1_df.to_csv('id_1.csv')\n",
    "id_2_df.to_csv('id_2.csv')\n",
    "id_3_df.to_csv('id_3.csv')\n",
    "id_4_df.to_csv('id_4.csv')\n",
    "id_5_df.to_csv('id_5.csv')\n",
    "id_6_df.to_csv('id_6.csv')"
   ]
  }
 ],
 "metadata": {
  "kernelspec": {
   "display_name": "Python 2",
   "language": "python",
   "name": "python2"
  },
  "language_info": {
   "codemirror_mode": {
    "name": "ipython",
    "version": 2
   },
   "file_extension": ".py",
   "mimetype": "text/x-python",
   "name": "python",
   "nbconvert_exporter": "python",
   "pygments_lexer": "ipython2",
   "version": "2.7.11"
  }
 },
 "nbformat": 4,
 "nbformat_minor": 0
}
